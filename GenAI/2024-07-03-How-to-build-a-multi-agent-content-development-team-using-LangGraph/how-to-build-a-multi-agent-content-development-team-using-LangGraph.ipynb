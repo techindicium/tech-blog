{
 "cells": [
  {
   "cell_type": "markdown",
   "id": "de3b79c7",
   "metadata": {},
   "source": [
    "# Multi-Agent Content Development Team using LangGraph\n",
    "\n",
    "Heyooo! I'm back.\n",
    "\n",
    "Don´t know if you all read my first blog post about **LangGraph**, If you didn’t and want to check out some basics, here it is: [What is LangGraph and Can It Help You Build LLM Agents?](link)!\n",
    "\n",
    "Anyways, today we are gonna dive a little deeper into **LangGraph**. I'll try to show you how to build a simple but usefull multi-agent team. While doing that, we are going to revisit some concepts to better understand how everything works, where things come from, and where they are going, as LangGraph can be a little tricky for newcomers.\n",
    "\n",
    "### What is Lan...\n",
    "\n",
    "\"This again?\" One might ask. Yeah, bear with me, let's fix this concept once and for all!\n",
    "\n",
    "## What is LangGraph?\n",
    "\n",
    "Well, as I was saying, **LangGraph** is an extension of **LangChain**, whose main objective is creating agent and multi-agent projects. It adds the ability to create cyclical flows while providing developers a high degree of control, which is - obviously - very important for creating custom agents and flows.\n",
    "\n",
    "I think that's enough theoretical jibber jabber for now. Let's start building something!\n",
    "\n",
    "## Building the - not the best - but pretty good Content Development Team\n",
    "\n",
    "With this project, I want to show you all that we can improve almost any process in depth and quality by leveraging multiple agents with specialized skills. Why is that? Well, having every agent focus and specialize only in a specific task allows more customizability, better separation of concerns, and, of course, further development as the project grows. LangGraph is no place for a jack of all trades.\n",
    "\n",
    "## The Content Development Team\n",
    "\n",
    "Our humble team consists of three agents:\n",
    "\n",
    "* **Researcher** - This fella is specialized in web search. He will deliver in-depth research on a given topic. No questions asked.\n",
    "* **Editor** - The role of this agent is to be annoying with his buddy the researcher. The editor will review the content brought by the researcher agent and demand more whenever he thinks it's needed. He will also provide some query tips.\n",
    "* **Writer** - This is the last agent of our flow, responsible for writing about the suggested topic using the context available from the previously mentioned agents.\n",
    "\n",
    "#### As promised, we will now dive into the code!!"
   ]
  },
  {
   "cell_type": "markdown",
   "id": "ccf7bc9f",
   "metadata": {},
   "source": [
    "## Setup"
   ]
  },
  {
   "cell_type": "markdown",
   "id": "57f80aed",
   "metadata": {},
   "source": [
    "As always, first we need to install the required packages"
   ]
  },
  {
   "cell_type": "code",
   "execution_count": 1,
   "id": "e1fd6fe9",
   "metadata": {},
   "outputs": [],
   "source": [
    "%%capture --no-stderr\n",
    "%pip install -U langgraph langsmith\n",
    "\n",
    "# Used for this tutorial; not a requirement for LangGraph\n",
    "%pip install -U langchain_openai"
   ]
  },
  {
   "cell_type": "markdown",
   "id": "d5a7c881",
   "metadata": {},
   "source": [
    "Next, let's set the API key for OpenAI"
   ]
  },
  {
   "cell_type": "code",
   "execution_count": 2,
   "id": "619fc726",
   "metadata": {},
   "outputs": [
    {
     "name": "stdout",
     "output_type": "stream",
     "text": [
      "OpenAI API Key:········\n"
     ]
    }
   ],
   "source": [
    "import os\n",
    "import getpass\n",
    "\n",
    "os.environ[\"OPENAI_API_KEY\"] = getpass.getpass(\"OpenAI API Key:\")"
   ]
  },
  {
   "cell_type": "markdown",
   "id": "14616270",
   "metadata": {},
   "source": [
    "Also, let's set up our [LangSmith](https://www.langchain.com/langsmith) key as it makes it a lot easier to see what's going on under the hood (optional, but encouraged)."
   ]
  },
  {
   "cell_type": "code",
   "execution_count": 3,
   "id": "ce09a5a0",
   "metadata": {},
   "outputs": [
    {
     "name": "stdout",
     "output_type": "stream",
     "text": [
      "LangSmith API Key:········\n"
     ]
    }
   ],
   "source": [
    "os.environ[\"LANGSMITH_API_KEY\"] = getpass.getpass(\"LangSmith API Key:\")\n",
    "os.environ[\"LANGCHAIN_TRACING_V2\"] = \"true\"\n",
    "os.environ[\"LANGCHAIN_PROJECT\"] = \"Multi-Agent Tutorial\""
   ]
  },
  {
   "cell_type": "markdown",
   "id": "7ec1c39b",
   "metadata": {},
   "source": [
    "We'll be using the [Tavily Search Engine](https://python.langchain.com/v0.1/docs/integrations/tools/tavily_search/). **It's super easy to register and they offer a free tier.** (Feel fre to check [GPT Researcher](https://gptr.dev/) aswel!)"
   ]
  },
  {
   "cell_type": "code",
   "execution_count": 4,
   "id": "e8fe2256",
   "metadata": {},
   "outputs": [
    {
     "name": "stdout",
     "output_type": "stream",
     "text": [
      "Tavily API Key:········\n"
     ]
    }
   ],
   "source": [
    "os.environ[\"TAVILY_API_KEY\"] = getpass.getpass(\"Tavily API Key:\")"
   ]
  },
  {
   "cell_type": "markdown",
   "id": "34fb2a0d",
   "metadata": {},
   "source": [
    "## Define the State\n",
    "\n",
    "Now this is an awesome feature from LangGraph that I absolutely love: state management. States in LangGraph are facilitated through a structured approach where developers define a GraphState that encapsulates the entire state of the application. Each node in the graph can modify this state, allowing for dynamic responses based on the evolving context of the interaction.\n",
    "\n",
    "If you've worked with data, you know the data schema is always a key point that you just can't take for granted, even in a simple project like this one. Check ours out:"
   ]
  },
  {
   "cell_type": "code",
   "execution_count": 5,
   "id": "9fb26aef",
   "metadata": {},
   "outputs": [],
   "source": [
    "from langgraph.graph import StateGraph\n",
    "from langgraph.graph.message import add_messages\n",
    "from typing_extensions import TypedDict\n",
    "from typing import Annotated\n",
    "\n",
    "\n",
    "class State(TypedDict):\n",
    "    query: Annotated[list, add_messages]\n",
    "    research: Annotated[list, add_messages]\n",
    "    content: str\n",
    "    content_ready: bool\n",
    "    iteration_count: int  # Counter for iterations\n",
    "\n",
    "# Initialize the StateGraph\n",
    "graph = StateGraph(State)"
   ]
  },
  {
   "cell_type": "markdown",
   "id": "cfe445ca",
   "metadata": {},
   "source": [
    "## Introducing Our Multi-Agent Team\n",
    "\n",
    "Let's dive into the team we were talking about: our one and only **Content Development Team**. Our team is made up of three specialized agents, each with a distinct role to ensure high-quality content development."
   ]
  },
  {
   "cell_type": "markdown",
   "id": "fbf2ef5d",
   "metadata": {},
   "source": [
    "### Research Agent\n",
    "\n",
    "First up, we have the Research Agent. This agent is responsible for conducting in-depth web searches to gather valuable information on a given topic."
   ]
  },
  {
   "cell_type": "code",
   "execution_count": 6,
   "id": "376482d1",
   "metadata": {},
   "outputs": [],
   "source": [
    "from langchain_community.tools.tavily_search import TavilySearchResults\n",
    "from langchain_openai import ChatOpenAI\n",
    "\n",
    "# Initialize ChatOpenAI instance for language model\n",
    "llm = ChatOpenAI(openai_api_key=os.environ[\"OPENAI_API_KEY\"], model=\"gpt-3.5-turbo\", temperature=0)\n",
    "\n",
    "\n",
    "class ResearchAgent:\n",
    "    def __init__(self):\n",
    "        pass\n",
    "    \n",
    "    def format_search(self, query: str) -> str:\n",
    "        # Prepare prompt for the language model to optimize the search query\n",
    "        # Using Few-Shot Prompting to ensure we receive only the optimized query\n",
    "        prompt = (\n",
    "            \"You are an expert at optimizing search queries for Google. \"\n",
    "            \"Your task is to take a given query and return an optimized version of it, making it more likely to yield relevant results. \"\n",
    "            \"Do not include any explanations or extra text, only the optimized query.\\n\\n\"\n",
    "            \"Example:\\n\"\n",
    "            \"Original: best laptop 2023 for programming\\n\"\n",
    "            \"Optimized: top laptops 2023 for coding\\n\\n\"\n",
    "            \"Example:\\n\"\n",
    "            \"Original: how to train a puppy not to bite\\n\"\n",
    "            \"Optimized: puppy training tips to prevent biting\\n\\n\"\n",
    "            \"Now optimize the following query:\\n\"\n",
    "            f\"Original: {query}\\n\"\n",
    "            \"Optimized:\"\n",
    "        )\n",
    "        \n",
    "        # Invoke language model to optimize query\n",
    "        response = llm.invoke(prompt)\n",
    "        return response.content\n",
    "    \n",
    "    def search(self, state: State):\n",
    "        # Initialize TavilySearchResults instance to perform the web search\n",
    "        search = TavilySearchResults(max_results=1)\n",
    "        # Get the latest query from the state and optimize it using the format_search method\n",
    "        optimized_query = self.format_search(state.get('query', \"\")[-1].content)\n",
    "        # Perform the search using the optimized query\n",
    "        results = search.invoke(optimized_query)\n",
    "        # Return only the content from the research results\n",
    "        return {\"research\": [results[0][\"content\"]]}"
   ]
  },
  {
   "cell_type": "markdown",
   "id": "ee570969",
   "metadata": {},
   "source": [
    "### Editor Agent\n",
    "\n",
    "The Editor Agent is responsible for evaluating the research provided by the Research Agent. This agent checks if the research content is sufficient for creating a comprehensive and accurate blog post. If the content is insufficient, it suggests new queries to improve the research results."
   ]
  },
  {
   "cell_type": "code",
   "execution_count": 7,
   "id": "8c914f2e",
   "metadata": {},
   "outputs": [],
   "source": [
    "class EditorAgent:\n",
    "    def __init__(self):\n",
    "        pass\n",
    "    \n",
    "    def evaluate_research(self, state: State):\n",
    "        # Combine all queries into a single string\n",
    "        query = '\\n'.join(message.content for message in state.get(\"query\"))\n",
    "        print(f\"Query/queries: {query}\")\n",
    "        print(\"-\"*20)\n",
    "        \n",
    "        # Combine all research content into a single string\n",
    "        research = '\\n'.join(message.content for message in state.get(\"research\"))\n",
    "        print(f\"Research Content: {research}\")\n",
    "        print(\"-\"*20)\n",
    "        \n",
    "        # Get the current iteration count, defaulting to 1 if not set\n",
    "        iteration_count = state.get(\"iteration_count\", 1)\n",
    "        \n",
    "        # Ensure iteration_count is always an integer\n",
    "        if iteration_count is None:\n",
    "            iteration_count = 1\n",
    "        \n",
    "        print(f\"Iteration n.: {iteration_count}\")\n",
    "        print(\"-\"*20)\n",
    "        \n",
    "        # Limit to 3 iterations to avoid infinite loops\n",
    "        if iteration_count >= 3:\n",
    "            return {\"content_ready\": True}\n",
    "        \n",
    "        # Prepare the prompt for the language model to evaluate the research\n",
    "        prompt = (\n",
    "            \"You are an expert editor. Your task is to evaluate the research based on the query. \"\n",
    "            \"If the information is sufficient to create a comprehensive and accurate blog post, respond with 'sufficient'. \"\n",
    "            \"If the information is not sufficient, respond with 'insufficient' and provide a new, creative query suggestion to improve the results. \"\n",
    "            \"If the research results appear repetitive or not diverse enough, think about a very different kind of question that could yield more varied and relevant information. \"\n",
    "            \"Consider the depth, relevance, and completeness of the information when making your decision.\\n\\n\"\n",
    "            \"Example 1:\\n\"\n",
    "            \"Used queries: What are the benefits of a Mediterranean diet?\\n\"\n",
    "            \"Research: The Mediterranean diet includes fruits, vegetables, whole grains, and healthy fats.\\n\"\n",
    "            \"Evaluation: Insufficient\\n\"\n",
    "            \"New query: Detailed health benefits of a Mediterranean diet\\n\\n\"\n",
    "            \"Example 2:\\n\"\n",
    "            \"Used queries: How does solar power work?\\n\"\n",
    "            \"Research: Solar power works by converting sunlight into electricity using photovoltaic cells.\\n\"\n",
    "            \"Evaluation: Sufficient\\n\\n\"\n",
    "            \"Example 3:\\n\"\n",
    "            \"Used queries: Effects of climate change on polar bears?\\n\"\n",
    "            \"Research: Climate change is reducing sea ice, affecting polar bear habitats.\\n\"\n",
    "            \"Evaluation: Insufficient\\n\"\n",
    "            \"New query: How are polar bears adapting to the loss of sea ice due to climate change?\\n\\n\"\n",
    "            \"Now evaluate the following:\\n\"\n",
    "            f\"Used queries: {query}\\n\"\n",
    "            f\"Research: {research}\\n\\n\"\n",
    "            \"Evaluation (sufficient/insufficient):\\n\"\n",
    "            \"New query (if insufficient):\"\n",
    "        )\n",
    "        \n",
    "        # Invoke the language model with the prompt\n",
    "        response = llm.invoke(prompt)\n",
    "        evaluation = response.content.strip()\n",
    "        \n",
    "        # Display the evaluation result for debugging purposes\n",
    "        print(f\"Eval: {evaluation}\")\n",
    "        print(\"-\"*20)\n",
    "        \n",
    "        # Check if a new query is suggested in the evaluation\n",
    "        if \"new query:\" in evaluation.lower():\n",
    "            new_query = evaluation.split(\"New query:\", 1)[-1].strip()\n",
    "            return {\"query\": [new_query], \"iteration_count\": iteration_count + 1}\n",
    "        else:\n",
    "            return {\"content_ready\": True}\n"
   ]
  },
  {
   "cell_type": "markdown",
   "id": "f835ec7a",
   "metadata": {},
   "source": [
    "### Writer Agent\n",
    "\n",
    "The Writer Agent is responsible for taking the optimized query and research content provided by the other agents to craft a well-written, engaging, and informative blog post. This agent ensures that the final content is comprehensive and easy to read."
   ]
  },
  {
   "cell_type": "code",
   "execution_count": 8,
   "id": "6433d87c",
   "metadata": {},
   "outputs": [],
   "source": [
    "class WriterAgent:\n",
    "    def __init__(self):\n",
    "        pass\n",
    "    \n",
    "    def write_blogpost(self, state: State):\n",
    "        # Extract the original query from the state\n",
    "        query = state.get(\"query\")[0].content\n",
    "        # Combine all research content into a single string\n",
    "        research = '\\n'.join(message.content for message in state.get(\"research\"))\n",
    "        \n",
    "        # Prepare the prompt for the language model to write the blog post\n",
    "        prompt = (\n",
    "            \"You are an expert blog post writer. Your task is to take a given query and context, and write a comprehensive, engaging, and informative short blog post about it. \"\n",
    "            \"Make sure to include an introduction, main body with detailed information, and a conclusion. Use a friendly and accessible tone, and ensure the content is well-structured and easy to read.\\n\\n\"\n",
    "            f\"Query: {query}\\n\\n\"\n",
    "            f\"Context:\\n{research}\\n\\n\"\n",
    "            \"Write a detailed and engaging blog post based on the above query and context.\"\n",
    "        )\n",
    "        \n",
    "        # Invoke the language model with the prompt to generate the blog post\n",
    "        response = llm.invoke(prompt)\n",
    "        \n",
    "        # Return the generated content\n",
    "        return {\"content\": response.content}"
   ]
  },
  {
   "cell_type": "markdown",
   "id": "3f87a524",
   "metadata": {},
   "source": [
    "### Creating the Graph\n",
    "\n",
    "Creating the LangGraph graph is very straightforward and consists of three main functions: `add_node`, `add_edge`, and `set_entry_point`. With these main functions, you can first add the nodes to the graph, connect the edges, and finally set the starting point. Let's break down the steps with comments to make it easy to follow."
   ]
  },
  {
   "cell_type": "code",
   "execution_count": 9,
   "id": "40c8ce10",
   "metadata": {},
   "outputs": [],
   "source": [
    "from langgraph.graph import END\n",
    "\n",
    "# Define nodes: Adding each agent to the graph as a node\n",
    "# \"search_agent\" uses the search method of the ResearchAgent\n",
    "# \"writer_agent\" uses the write_blogpost method of the WriterAgent\n",
    "# \"editor_agent\" uses the evaluate_research method of the EditorAgent\n",
    "graph.add_node(\"search_agent\", ResearchAgent().search)\n",
    "graph.add_node(\"writer_agent\", WriterAgent().write_blogpost)\n",
    "graph.add_node(\"editor_agent\", EditorAgent().evaluate_research)\n",
    "\n",
    "# Set entry point: The graph starts with the search_agent node\n",
    "graph.set_entry_point(\"search_agent\")\n",
    "\n",
    "# Define edges: Connect the nodes in the order they should be executed\n",
    "# After search_agent finishes, editor_agent is triggered\n",
    "graph.add_edge(\"search_agent\", \"editor_agent\")\n",
    "\n",
    "# Define conditional edges for the editor agent\n",
    "# Depending on the evaluation result, either proceed to writer_agent or go back to search_agent for revision\n",
    "graph.add_conditional_edges(\n",
    "    \"editor_agent\",\n",
    "    lambda state: \"accept\" if state.get(\"content_ready\") else \"revise\",\n",
    "    {\n",
    "        \"accept\": \"writer_agent\", # If content is ready, proceed to writer_agent\n",
    "        \"revise\": \"search_agent\" # If content is not ready, go back to search_agent\n",
    "    }\n",
    ")\n",
    "\n",
    "# Define edge to end the graph once the writer_agent is done\n",
    "graph.add_edge(\"writer_agent\", END)\n",
    "\n",
    "# Compile the graph to finalize its structure\n",
    "graph = graph.compile()"
   ]
  },
  {
   "cell_type": "markdown",
   "id": "ceabb5b7",
   "metadata": {},
   "source": [
    "### Visualizing the Graph\n",
    "\n",
    "To help visualize the structure of our LangGraph, we can use the `IPython.display` module to display the graph. This visualization shows how the agents are connected and how the flow proceeds from start to end, including conditional paths."
   ]
  },
  {
   "cell_type": "code",
   "execution_count": 10,
   "id": "e77ea970",
   "metadata": {},
   "outputs": [
    {
     "data": {
      "image/jpeg": "[encoded data removed]",
      "text/plain": [
       "<IPython.core.display.Image object>"
      ]
     },
     "metadata": {},
     "output_type": "display_data"
    }
   ],
   "source": [
    "from IPython.display import Image, display\n",
    "\n",
    "display(Image(graph.get_graph().draw_mermaid_png()))"
   ]
  },
  {
   "cell_type": "markdown",
   "id": "3e2bbd03",
   "metadata": {},
   "source": [
    "### Running the Graph\n",
    "\n",
    "Now that we've created and visualized our graph, it's time to see it in action. By invoking the graph with an initial query, we can start the multi-agent process and see the results.\n",
    "\n",
    "Let's initiate the process with a sample query \"Langchain vs. LangGraph\"."
   ]
  },
  {
   "cell_type": "code",
   "execution_count": 15,
   "id": "3d87cfc1",
   "metadata": {},
   "outputs": [
    {
     "name": "stdout",
     "output_type": "stream",
     "text": [
      "Query/queries: What are the differences between LangChain and LangGraph?\n",
      "--------------------\n",
      "Research Content: 1. L angGraph is a library for building stateful, multi-actor applications with LLMs. It extends the LangChain Expression Language with the ability to coordinate multiple chains (or actors) across ...\n",
      "--------------------\n",
      "Iteration n.: 1\n",
      "--------------------\n",
      "Eval: Insufficient\n",
      "New query: What are the key features and use cases of LangChain and LangGraph in the context of blockchain technology?\n",
      "--------------------\n",
      "Query/queries: What are the differences between LangChain and LangGraph?\n",
      "What are the key features and use cases of LangChain and LangGraph in the context of blockchain technology?\n",
      "--------------------\n",
      "Research Content: 1. L angGraph is a library for building stateful, multi-actor applications with LLMs. It extends the LangChain Expression Language with the ability to coordinate multiple chains (or actors) across ...\n",
      "🗃️ Tool use. 6 items. 📄️ Interacting with APIs. Lots of data and information is stored behind APIs. 📄️ Tabular Question Answering. Lots of data and information is stored in tabular data, whether it be csvs, excel sheets, or SQL tables. 🗃️ Graphs. 5 items. 📄️ Summarization. A common use case is wanting to summarize long ...\n",
      "--------------------\n",
      "Iteration n.: 2\n",
      "--------------------\n",
      "Eval: Insufficient\n",
      "\n",
      "New query: What are the specific technical differences between LangChain and LangGraph in the context of blockchain technology?\n",
      "--------------------\n",
      "Query/queries: What are the differences between LangChain and LangGraph?\n",
      "What are the key features and use cases of LangChain and LangGraph in the context of blockchain technology?\n",
      "What are the specific technical differences between LangChain and LangGraph in the context of blockchain technology?\n",
      "--------------------\n",
      "Research Content: 1. L angGraph is a library for building stateful, multi-actor applications with LLMs. It extends the LangChain Expression Language with the ability to coordinate multiple chains (or actors) across ...\n",
      "🗃️ Tool use. 6 items. 📄️ Interacting with APIs. Lots of data and information is stored behind APIs. 📄️ Tabular Question Answering. Lots of data and information is stored in tabular data, whether it be csvs, excel sheets, or SQL tables. 🗃️ Graphs. 5 items. 📄️ Summarization. A common use case is wanting to summarize long ...\n",
      "LangChain is a comprehensive framework designed to facilitate the development, productionization, and deployment of applications powered by large language models (LLMs). It serves as a bridge between the raw computational power of LLMs and practical, real-world applications, enabling developers to harness the full potential of LLMs beyond their ...\n",
      "--------------------\n",
      "Iteration n.: 3\n",
      "--------------------\n"
     ]
    }
   ],
   "source": [
    "blogpost = graph.invoke({\"query\":\"What are the differences between LangChain and LangGraph?\"})"
   ]
  },
  {
   "cell_type": "code",
   "execution_count": 16,
   "id": "9a2e7ba1",
   "metadata": {
    "scrolled": true
   },
   "outputs": [
    {
     "name": "stdout",
     "output_type": "stream",
     "text": [
      "In the world of language models and AI applications, two key tools have been making waves: LangChain and LangGraph. While both are designed to enhance the capabilities of large language models (LLMs), they serve different purposes and offer unique features. Let's dive into the differences between LangChain and LangGraph to understand how they can benefit developers and users alike.\n",
      "\n",
      "LangGraph is a powerful library that focuses on building stateful, multi-actor applications with LLMs. It extends the LangChain Expression Language to enable the coordination of multiple chains or actors across various tasks. This means that developers can create complex applications that involve multiple actors working together, making it ideal for scenarios where collaboration and coordination are essential.\n",
      "\n",
      "On the other hand, LangChain is a comprehensive framework that aims to streamline the development, productionization, and deployment of applications powered by LLMs. It acts as a bridge between the raw computational power of LLMs and practical, real-world applications, allowing developers to leverage the full potential of LLMs in their projects. LangChain is particularly useful for developers looking to harness the capabilities of LLMs beyond just language processing, enabling them to create a wide range of AI-powered applications.\n",
      "\n",
      "One key difference between LangChain and LangGraph lies in their focus and functionality. While LangGraph is geared towards building multi-actor applications and coordinating tasks across different chains, LangChain is more focused on facilitating the development and deployment of LLM-powered applications. This distinction makes each tool suitable for different use cases and scenarios, depending on the specific requirements of the project.\n",
      "\n",
      "In conclusion, both LangChain and LangGraph offer valuable tools and capabilities for developers working with LLMs. Whether you need to build complex multi-actor applications or streamline the deployment of LLM-powered projects, these tools can help you achieve your goals efficiently and effectively. By understanding the differences between LangChain and LangGraph, developers can choose the right tool for their specific needs and unlock the full potential of large language models in their applications.\n"
     ]
    }
   ],
   "source": [
    "print(blogpost['content'])"
   ]
  }
 ],
 "metadata": {
  "kernelspec": {
   "display_name": "Python 3 (ipykernel)",
   "language": "python",
   "name": "python3"
  },
  "language_info": {
   "codemirror_mode": {
    "name": "ipython",
    "version": 3
   },
   "file_extension": ".py",
   "mimetype": "text/x-python",
   "name": "python",
   "nbconvert_exporter": "python",
   "pygments_lexer": "ipython3",
   "version": "3.10.9"
  }
 },
 "nbformat": 4,
 "nbformat_minor": 5
}
